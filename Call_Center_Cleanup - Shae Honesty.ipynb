{
 "cells": [
  {
   "cell_type": "markdown",
   "id": "331a1c4f",
   "metadata": {},
   "source": [
    "# Call Center Cleanup\n",
    "\n",
    "For this assignment, we will be working with call center data. You can start working on the assignment after the first lesson on Exploratory Data Analysis with pandas. Make sure to read the whole assignment before starting anything! As you code along in the Jupyter notebook, you are asked to make note of the results of your analysis. Do so by clicking on the results box and adding your notes beside each question.\n",
    "\n",
    "## Business Issue and Understanding\n",
    "\n",
    "You are working for a company that has two call centers: the North Call Center and the South Call Center. The company is looking to possibly hire five additional reps to enhance customer experience. Your task is to explore how efficient the current reps are in each branch to determine which branch would benefit from additional assistance.\n",
    "\n",
    "### How the Call Center Works\n",
    "\n",
    "Call center representatives are assigned queues. When calls are assigned to a queue, the call is assigned to the next person in line in the queue. After a call is assigned to a representative, the amount of time between assignment and the call starting is divided into busy minutes and not ready minutes. If the call is incoming and a customer is waiting on the phone for a rep, the time is split into three categories: busy minutes, not ready minutes, and incoming call wait time. Once the rep has the customer on the phone, there might be during call wait time, where the call is put on hold while the rep gets an answer for the customer.\n",
    "\n",
    "### Notes about the Dataset\n",
    "\n",
    "If you haven't worked in a call center before, these notes might help you throughout your analysis.\n",
    "\n",
    "* The call purpose is tagged for each call.\n",
    "* The time of the call is tagged in 1 hour blocks starting at 9:00 AM and ending at 5:00 PM.\n",
    "* Calls are tagged as incoming or outgoing.\n",
    "* Reps are assigned to queues. When the reps are working, they take calls in the order of their queue.\n",
    "* A call that is dropped due to technical error or missed by the center because they have reached maximum capacity is a lost call.\n",
    "* An abandoned call is when the customer hangs up because they have been waiting for too long.\n",
    "* Busy Minutes: the amount of time after a call comes in or needs to go out where the assigned rep is not available because they are busy with other customers.\n",
    "* Not Ready Minutes: the amount of time after a call comes in or needs to go out where the assigned rep is not available because they are not ready (for example, getting water).\n",
    "* Incoming Wait Time - amount of time after assigned rep is available to take the call customer waits for representative to pick up a call. This is tracked in seconds.\n",
    "* During Call Wait Time - amount of time during call that customer has to wait for representative\n",
    "\n",
    "## Getting Started\n",
    "\n",
    "You have two CSVs at your disposal, `NorthCallCenter.csv` and `SouthCallCenter.csv`. Import the appropriate libraries and create two dataframes, one called `north_df` and one called `south_df`."
   ]
  },
  {
   "cell_type": "code",
   "execution_count": 19,
   "id": "f362436b",
   "metadata": {},
   "outputs": [],
   "source": [
    "# Import the appropriate libraries with aliases\n",
    "import pandas as pd\n",
    "import numpy as np\n",
    "# import matplotlib as plt\n",
    "import matplotlib.pyplot as plt\n",
    "\n",
    "# Create two new dataframes\n",
    "north_df = pd.read_csv(r\"C:\\Users\\sqroo\\Desktop\\LaunchCode\\call-center-cleanup-assignment\\NorthCallCenter.csv\")\n",
    "\n",
    "south_df = pd.read_csv(r\"C:\\Users\\sqroo\\Desktop\\LaunchCode\\call-center-cleanup-assignment\\SouthCallCenter.csv\")"
   ]
  },
  {
   "cell_type": "markdown",
   "id": "b4d3484b",
   "metadata": {},
   "source": [
    "## Task 1: Exploratory Data Analysis\n",
    "\n",
    "Time to do some EDA! In the process of learning more about the two datasets, answer the following questions. Use the code blocks below to begin cleaning your data. At the end of the section, record your answers."
   ]
  },
  {
   "cell_type": "markdown",
   "id": "76898991",
   "metadata": {},
   "source": [
    "#### EDA Question 1A:  How many reps are in the North branch?  "
   ]
  },
  {
   "cell_type": "code",
   "execution_count": 20,
   "id": "ce3eb5e4",
   "metadata": {},
   "outputs": [
    {
     "name": "stdout",
     "output_type": "stream",
     "text": [
      "<bound method Series.unique of Rep ID\n",
      "Brent     37\n",
      "Lilly     30\n",
      "Todd      29\n",
      "Duke      29\n",
      "Joe       26\n",
      "Xander    24\n",
      "Cam       24\n",
      "Amanda    23\n",
      "Andy      23\n",
      "Name: count, dtype: int64>\n",
      "Total Num. of North Reps: 9\n"
     ]
    }
   ],
   "source": [
    "# EDA Question 1A solution below:\n",
    "# north_df.info()\n",
    "\n",
    "north_reps = north_df.value_counts('Rep ID').unique\n",
    "print(north_reps)\n",
    "\n",
    "total_north_reps = north_df['Rep ID'].nunique()\n",
    "print('Total Num. of North Reps:', total_north_reps)"
   ]
  },
  {
   "cell_type": "markdown",
   "id": "954295f5",
   "metadata": {},
   "source": [
    "Total Num. of North Reps: 9"
   ]
  },
  {
   "cell_type": "markdown",
   "id": "2a9b34d8",
   "metadata": {},
   "source": [
    "#### EDA Question 1B:  How many reps are in the South branch?  "
   ]
  },
  {
   "cell_type": "code",
   "execution_count": 21,
   "id": "3c715bbf",
   "metadata": {},
   "outputs": [
    {
     "name": "stdout",
     "output_type": "stream",
     "text": [
      "<bound method Series.unique of Rep ID\n",
      "Eric      35\n",
      "Randy     33\n",
      "Sandy     32\n",
      "Helga     31\n",
      "George    29\n",
      "Kate      29\n",
      "Karl      28\n",
      "Susan     26\n",
      "Josh      26\n",
      "Sharon    25\n",
      "Alice     20\n",
      "Name: count, dtype: int64>\n",
      "Total Num. of South Reps: 11\n"
     ]
    }
   ],
   "source": [
    "# EDA Question 1B solution Below:\n",
    "# south_df.info()\n",
    "\n",
    "south_reps = south_df.value_counts('Rep ID').unique\n",
    "print(south_reps)\n",
    "\n",
    "total_south_reps = south_df['Rep ID'].nunique()\n",
    "print('Total Num. of South Reps:', total_south_reps)"
   ]
  },
  {
   "cell_type": "markdown",
   "id": "c7c1f9d8",
   "metadata": {},
   "source": [
    "Total Num. of South Reps: 11"
   ]
  },
  {
   "cell_type": "markdown",
   "id": "a872f045",
   "metadata": {},
   "source": [
    "#### EDA Question 2A:  What is the average busy minutes, not ready minutes, incoming wait time, and during call wait time for the North branch? "
   ]
  },
  {
   "cell_type": "code",
   "execution_count": 22,
   "id": "3759305f",
   "metadata": {},
   "outputs": [
    {
     "name": "stdout",
     "output_type": "stream",
     "text": [
      "North Branch Average Busy Minutes 9.99\n",
      "North Branch Average Not Ready Minutes 1.91\n",
      "North Branch Average Incoming Wait Time 3.05\n",
      "North Branch Average During Call Wait Time 2.97\n"
     ]
    }
   ],
   "source": [
    "# EDA Question 2A solution Below:\n",
    "# north_df.info()\n",
    "# Busy Minutes\n",
    "# Not Ready Minutes\n",
    "# Incoming Wait Time\n",
    "# During Call Wait Time\n",
    "\n",
    "north_busy_minutes = round(north_df['Busy Minutes'].mean(), 2)\n",
    "north_not_ready_minutes = round(north_df['Not Ready Minutes'].mean(), 2)\n",
    "north_incoming_wait_time = round(north_df['Incoming Wait Time'].mean(), 2)\n",
    "north_during_call_wait_time = round(north_df['During Call Wait Time'].mean(), 2)\n",
    "\n",
    "print('North Branch Average Busy Minutes', north_busy_minutes)\n",
    "print('North Branch Average Not Ready Minutes', north_not_ready_minutes)\n",
    "print('North Branch Average Incoming Wait Time', north_incoming_wait_time)\n",
    "print('North Branch Average During Call Wait Time', north_during_call_wait_time)\n",
    "\n",
    "\n"
   ]
  },
  {
   "cell_type": "markdown",
   "id": "15504d18",
   "metadata": {},
   "source": [
    "North Branch Average Busy Minutes 9.99\n",
    "North Branch Average Not Ready Minutes 1.91\n",
    "North Branch Average Incoming Wait Time 3.05\n",
    "North Branch Average During Call Wait Time 2.97\n"
   ]
  },
  {
   "cell_type": "markdown",
   "id": "3851cf3e",
   "metadata": {},
   "source": [
    "#### EDA Question 2B:  What is the average busy minutes, not ready minutes, incoming wait time, and during call wait time for the South branch? "
   ]
  },
  {
   "cell_type": "code",
   "execution_count": 23,
   "id": "a77ec152",
   "metadata": {},
   "outputs": [
    {
     "name": "stdout",
     "output_type": "stream",
     "text": [
      "South Branch Average Busy Minutes 10.05\n",
      "South Branch Average Not Ready Minutes 1.91\n",
      "South Branch Average Incoming Wait Time 3.0\n",
      "South Branch Average During Call Wait Time 3.08\n"
     ]
    }
   ],
   "source": [
    "# EDA Question 2B solution Below:\n",
    "# south_df.info()\n",
    "# Busy Minutes\n",
    "# Not Ready Minutes\n",
    "# Incoming Wait Time\n",
    "# During Call Wait Time\n",
    "\n",
    "south_busy_minutes = round(south_df['Busy Minutes'].mean(), 2)\n",
    "south_not_ready_minutes = round(south_df['Not Ready Minutes'].mean(), 2)\n",
    "south_incoming_wait_time = round(south_df['Incoming Wait Time'].mean(), 2)\n",
    "south_during_call_wait_time = round(south_df['During Call Wait Time'].mean(), 2)\n",
    "\n",
    "print('South Branch Average Busy Minutes', south_busy_minutes)\n",
    "print('South Branch Average Not Ready Minutes', south_not_ready_minutes)\n",
    "print('South Branch Average Incoming Wait Time', south_incoming_wait_time)\n",
    "print('South Branch Average During Call Wait Time', south_during_call_wait_time)\n"
   ]
  },
  {
   "cell_type": "markdown",
   "id": "b030c7da",
   "metadata": {},
   "source": [
    "South Branch Average Busy Minutes 10.05\n",
    "South Branch Average Not Ready Minutes 1.91\n",
    "South Branch Average Incoming Wait Time 3.0\n",
    "South Branch Average During Call Wait Time 3.08"
   ]
  },
  {
   "cell_type": "markdown",
   "id": "75915553",
   "metadata": {},
   "source": [
    "#### EDA Question 3:  What is the number of calls taken for each time block(Both North and South combined)?"
   ]
  },
  {
   "cell_type": "code",
   "execution_count": 24,
   "id": "49566936",
   "metadata": {},
   "outputs": [
    {
     "name": "stdout",
     "output_type": "stream",
     "text": [
      "Time Block\n",
      "10:00 AM     99\n",
      "11:00 AM     56\n",
      "12:00 PM    120\n",
      "1:00 PM      40\n",
      "2:00 PM      65\n",
      "3:00 PM      73\n",
      "4:00 PM      53\n",
      "5:00 PM      43\n",
      "9:00 AM      10\n",
      "Name: count, dtype: int64\n"
     ]
    }
   ],
   "source": [
    "# EDA Question 3 solution Below:\n",
    "north_time_block = north_df.value_counts('Time Block').sort_index()\n",
    "# print(north_time_block)\n",
    "\n",
    "south_time_block = south_df.value_counts('Time Block').sort_index()\n",
    "# print(south_time_block)\n",
    "\n",
    "total_time_block = north_time_block.add(south_time_block).sort_index()\n",
    "print(total_time_block)"
   ]
  },
  {
   "cell_type": "markdown",
   "id": "d466e397",
   "metadata": {},
   "source": [
    "Time Block\n",
    "9:00 AM      10\n",
    "10:00 AM     99\n",
    "11:00 AM     56\n",
    "12:00 PM    120\n",
    "1:00 PM      40\n",
    "2:00 PM      65\n",
    "3:00 PM      73\n",
    "4:00 PM      53\n",
    "5:00 PM      43\n",
    "\n",
    "Name: count, dtype: int64\n"
   ]
  },
  {
   "cell_type": "markdown",
   "id": "40b1fd3f",
   "metadata": {},
   "source": [
    "##### Record your answers for the EDA section below:\n",
    "- 1a. Reps in the North Branch = 9\n",
    "- 1b. Reps in the South Branch = 11\n",
    "\n",
    "2a. North Branch, (round to the nearest hundredth):\n",
    "* Busy Minutes = 9.99\n",
    "* Not Ready Minutes = 1.91\n",
    "* Incoming Wait Time = 3.05\n",
    "* During Call Wait Time = 2.97\n",
    "\n",
    "2b. South Branch, (round to the nearest hundredth):\n",
    "* Busy Minutes = 10.05\n",
    "* Not Ready Minutes = 1.91\n",
    "* Incoming Wait Time = 3.00\n",
    "* During Call Wait Time = 3.08 \n",
    "\n",
    "- 3) Total Calls taken for all branches per time block:\n",
    "* 9:00AM = 10\n",
    "* 10:00AM = 99 \n",
    "* 11:00AM = 56\n",
    "* 12:00PM = 120\n",
    "* 1:00PM = 40\n",
    "* 2:00PM = 65\n",
    "* 3:00PM = 73\n",
    "* 4:00PM = 53\n",
    "* 5:00PM = 43 \n",
    "\n",
    "\n"
   ]
  },
  {
   "cell_type": "markdown",
   "id": "366bfb19",
   "metadata": {},
   "source": [
    "## Task 2: Cleaning Your Data \n",
    "Now you need to clean up the datasets. When cleaning the datasets, you may find that there isn't dirty data to clean. That is okay! Some questions you need to answer about the data sets.\n",
    "* Add additional code blocks as needed to show how you came to your conclusions. Add comments in your code blocks to help others understand your thinking. "
   ]
  },
  {
   "cell_type": "markdown",
   "id": "c3564d69",
   "metadata": {},
   "source": [
    "#### Cleaning Question 1:  Is there any missing data and if yes explain what you would do with the missing data and why?"
   ]
  },
  {
   "cell_type": "code",
   "execution_count": 25,
   "id": "b77fb574",
   "metadata": {},
   "outputs": [
    {
     "name": "stdout",
     "output_type": "stream",
     "text": [
      "<class 'pandas.core.frame.DataFrame'>\n",
      "RangeIndex: 314 entries, 0 to 313\n",
      "Data columns (total 15 columns):\n",
      " #   Column                 Non-Null Count  Dtype  \n",
      "---  ------                 --------------  -----  \n",
      " 0   Unnamed: 0             314 non-null    int64  \n",
      " 1   Branch                 314 non-null    object \n",
      " 2   Call Purpose           314 non-null    object \n",
      " 3   Time Block             314 non-null    object \n",
      " 4   Incoming or Outgoing   314 non-null    object \n",
      " 5   Queue                  314 non-null    object \n",
      " 6   Rep ID                 314 non-null    object \n",
      " 7   Sale                   314 non-null    object \n",
      " 8   Lost Call              314 non-null    int64  \n",
      " 9   Abandoned              314 non-null    int64  \n",
      " 10  Busy Minutes           314 non-null    int64  \n",
      " 11  Not Ready Minutes      314 non-null    int64  \n",
      " 12  Incoming Wait Time     126 non-null    float64\n",
      " 13  During Call Wait Time  314 non-null    int64  \n",
      " 14  Calls                  314 non-null    int64  \n",
      "dtypes: float64(1), int64(7), object(7)\n",
      "memory usage: 36.9+ KB\n"
     ]
    }
   ],
   "source": [
    "# Question 1 solution below\n",
    "# north_df.info()\n",
    "# north_df.describe()\n",
    "# north_df.drop('Incoming Wait Time')\n",
    "\n",
    "south_df.info()\n",
    "# south_df.describe()\n",
    "# south_df.drop('Incoming Wait Time')\n",
    "\n"
   ]
  },
  {
   "cell_type": "markdown",
   "id": "0dc5c568-40db-4889-b82b-64610d8058d2",
   "metadata": {},
   "source": [
    "#### Record your answer below:\n",
    "\n",
    "> Your Answer: There is no missing data that i can tell."
   ]
  },
  {
   "cell_type": "markdown",
   "id": "dc47f020",
   "metadata": {},
   "source": [
    "#### Cleaning Question 2:  In the North data set, there are two separate \"YES\" values for a sale. Why and how did you rectify the issue?"
   ]
  },
  {
   "cell_type": "code",
   "execution_count": 26,
   "id": "4e0fbad6",
   "metadata": {},
   "outputs": [],
   "source": [
    "# Cleaning Question 2 solution below:\n",
    "# north_df.describe()\n",
    "# north_df.info()\n",
    "\n",
    "yes_sale = north_df['Sale'].unique()\n",
    "# print(\"Unclean 'Sale' Column:\", yes_sale)\n",
    "\n",
    "north_df['Sale'] = north_df['Sale'].str.rstrip()\n",
    "cleaned_yes_sale = north_df['Sale'].unique()\n",
    "# print(\"Cleaned 'Sale' Column:\", cleaned_yes_sale)\n",
    "\n",
    "# dirty_incoming = south_df['Incoming or Outgoing'].unique()\n",
    "# print(\"Unclean Column:\", dirty_incoming)\n",
    "\n",
    "# south_df['Sale'] = south_df['Sale'].str.rstrip()\n",
    "# cleaned_incoming = south_df['Sale'].unique()\n",
    "# print(\"Cleaned Column:\", cleaned_incoming)\n",
    "\n"
   ]
  },
  {
   "cell_type": "markdown",
   "id": "cf81b612-eb6b-45a6-ac8e-d6f4e08131a8",
   "metadata": {},
   "source": [
    "##### Record your answer by below:\n",
    "> Your Answer: While cleaning my data I removed the spaces for the Sale column."
   ]
  },
  {
   "cell_type": "markdown",
   "id": "715f375a",
   "metadata": {},
   "source": [
    "#### Cleaning Question 3:  Are there duplicates in the two data sets? If there are, how did you handle them?"
   ]
  },
  {
   "cell_type": "code",
   "execution_count": 27,
   "id": "2323673a",
   "metadata": {},
   "outputs": [],
   "source": [
    "# Cleaning Question 3 solution below:\n",
    "# north_df.duplicated()\n",
    "# duplicates_north = north_df.duplicated()\n",
    "# total_duplicates_north = duplicates_north.sum()\n",
    "# print(total_duplicates_north)\n",
    "\n",
    "# south_df.duplicated()\n",
    "# duplicates_south = south_df.duplicated()\n",
    "# total_duplicates_south = duplicates_south.sum()\n",
    "# print(total_duplicates_south)\n"
   ]
  },
  {
   "cell_type": "markdown",
   "id": "4fbfe2e8-490a-48dc-b0ca-599879076c62",
   "metadata": {},
   "source": [
    "##### Record your answer below:\n",
    "> Your Answer: There are no duplicates in either the North nor South data sets"
   ]
  },
  {
   "cell_type": "markdown",
   "id": "8ffaa865",
   "metadata": {},
   "source": [
    "#### Cleaning Question 4:  Is any of the data in the two data sets unnecessary? If yes, how did you handle it?"
   ]
  },
  {
   "cell_type": "code",
   "execution_count": 28,
   "id": "78b45e70",
   "metadata": {},
   "outputs": [
    {
     "name": "stdout",
     "output_type": "stream",
     "text": [
      "<class 'pandas.core.frame.DataFrame'>\n",
      "RangeIndex: 245 entries, 0 to 244\n",
      "Data columns (total 15 columns):\n",
      " #   Column                 Non-Null Count  Dtype  \n",
      "---  ------                 --------------  -----  \n",
      " 0   Unnamed: 0             245 non-null    int64  \n",
      " 1   Branch                 245 non-null    object \n",
      " 2   Call Purpose           245 non-null    object \n",
      " 3   Time Block             245 non-null    object \n",
      " 4   Incoming or Outgoing   245 non-null    object \n",
      " 5   Queue                  245 non-null    object \n",
      " 6   Rep ID                 245 non-null    object \n",
      " 7   Sale                   245 non-null    object \n",
      " 8   Lost Call              245 non-null    int64  \n",
      " 9   Abandoned              245 non-null    int64  \n",
      " 10  Busy Minutes           245 non-null    int64  \n",
      " 11  Not Ready Minutes      245 non-null    int64  \n",
      " 12  Incoming Wait Time     82 non-null     float64\n",
      " 13  During Call Wait Time  245 non-null    int64  \n",
      " 14  Calls                  245 non-null    int64  \n",
      "dtypes: float64(1), int64(7), object(7)\n",
      "memory usage: 28.8+ KB\n"
     ]
    }
   ],
   "source": [
    "# Cleaning Question 4 solution below:\n",
    "north_df.info()"
   ]
  },
  {
   "cell_type": "markdown",
   "id": "689e76b9-64d2-45d7-883a-b8c4d822e0c8",
   "metadata": {},
   "source": [
    "##### Record your answer below:\n",
    "> Your Answer: For each individual set the branch column isnt neccessary."
   ]
  },
  {
   "cell_type": "markdown",
   "id": "73342a9a",
   "metadata": {},
   "source": [
    "## Task 3: Data Manipulation\n",
    "Before you begin answering any questions, combine the two datasets together to create a third dataframe called df. You can use this third dataframe to compare the two call centers to company-wide trends.\n",
    "* Add additional code blocks as needed to show how you came to your conclusions. Add comments in your code blocks to help others understand your thinking. Record your answer below."
   ]
  },
  {
   "cell_type": "code",
   "execution_count": 29,
   "id": "e9705c34",
   "metadata": {},
   "outputs": [
    {
     "name": "stdout",
     "output_type": "stream",
     "text": [
      "<class 'pandas.core.frame.DataFrame'>\n",
      "RangeIndex: 559 entries, 0 to 558\n",
      "Data columns (total 15 columns):\n",
      " #   Column                 Non-Null Count  Dtype  \n",
      "---  ------                 --------------  -----  \n",
      " 0   Unnamed: 0             559 non-null    int64  \n",
      " 1   Branch                 559 non-null    object \n",
      " 2   Call Purpose           559 non-null    object \n",
      " 3   Time Block             559 non-null    object \n",
      " 4   Incoming or Outgoing   559 non-null    object \n",
      " 5   Queue                  559 non-null    object \n",
      " 6   Rep ID                 559 non-null    object \n",
      " 7   Sale                   559 non-null    object \n",
      " 8   Lost Call              559 non-null    int64  \n",
      " 9   Abandoned              559 non-null    int64  \n",
      " 10  Busy Minutes           559 non-null    int64  \n",
      " 11  Not Ready Minutes      559 non-null    int64  \n",
      " 12  Incoming Wait Time     208 non-null    float64\n",
      " 13  During Call Wait Time  559 non-null    int64  \n",
      " 14  Calls                  559 non-null    int64  \n",
      "dtypes: float64(1), int64(7), object(7)\n",
      "memory usage: 65.6+ KB\n"
     ]
    }
   ],
   "source": [
    "# # Create dataframe for the entire company named df\n",
    "# # using an outer join and confirming the merge\n",
    "combined_df = pd.merge(north_df, south_df, how='outer')\n",
    "combined_df.info()\n",
    "# combined_df.head()\n"
   ]
  },
  {
   "cell_type": "markdown",
   "id": "7e87dfd1",
   "metadata": {},
   "source": [
    "#### Manipulation Question 1:  Group by Rep ID and sum the resulting structure. Sort by calls to determine which rep in each branch has the highest number of calls."
   ]
  },
  {
   "cell_type": "code",
   "execution_count": 30,
   "id": "3953f09a",
   "metadata": {},
   "outputs": [
    {
     "name": "stdout",
     "output_type": "stream",
     "text": [
      "North Branch Calls:    Rep ID  Calls\n",
      "2   Brent     37\n",
      "6   Lilly     30\n",
      "7    Todd     29\n",
      "4    Duke     29\n",
      "5     Joe     26\n",
      "8  Xander     24\n",
      "3     Cam     24\n",
      "0  Amanda     23\n",
      "1    Andy     23\n",
      "South Branch Calls:     Rep ID  Calls\n",
      "1     Eric     35\n",
      "7    Randy     33\n",
      "8    Sandy     32\n",
      "3    Helga     31\n",
      "2   George     29\n",
      "6     Kate     29\n",
      "5     Karl     28\n",
      "10   Susan     26\n",
      "4     Josh     26\n",
      "9   Sharon     25\n",
      "0    Alice     20\n"
     ]
    }
   ],
   "source": [
    "# Manipulation Question solution below:\n",
    "\n",
    "north_calls = north_df.groupby('Rep ID', as_index=False)['Calls'].sum()\n",
    "north_calls_sorted = north_calls.sort_values(by='Calls', ascending=False)\n",
    "print('North Branch Calls:', north_calls_sorted)\n",
    "\n",
    "south_calls = south_df.groupby('Rep ID', as_index=False)['Calls'].sum()\n",
    "south_calls_sorted = south_calls.sort_values(by='Calls', ascending=False)\n",
    "print('South Branch Calls:', south_calls_sorted)\n"
   ]
  },
  {
   "cell_type": "markdown",
   "id": "7c29838c-1402-4e4b-94c9-050515d8dd18",
   "metadata": {},
   "source": [
    "##### Record your answer below\n",
    "Rep with the hightest number of calls and their total calls:\n",
    "- North Branch = Brent has 37 calls\n",
    "- South Branch = Eric has 35 calls"
   ]
  },
  {
   "cell_type": "markdown",
   "id": "809293b9",
   "metadata": {},
   "source": [
    "#### Manipulation Question 2:  The average call abandonment rate is a KPI when it comes to determining call center efficiency. As you may recall, abandoned calls are calls where the customer hangs up due to long call times. What is the average call abandonment rate for each branch and the whole company? Do any of these fall out of the optimal range of 2-5%?"
   ]
  },
  {
   "cell_type": "code",
   "execution_count": 31,
   "id": "3dff7534",
   "metadata": {},
   "outputs": [
    {
     "name": "stdout",
     "output_type": "stream",
     "text": [
      "North Branch Average Abandonment Rate: 2.86 %\n",
      "South Branch Average Abandonment Rate: 1.27 %\n",
      "Total Company Average Abandonment Rate: 1.97 %\n"
     ]
    }
   ],
   "source": [
    "# Manipulation Question 2 solution below:\n",
    "\n",
    "north_total_calls = north_df['Calls'].sum()\n",
    "north_abandoned_calls = north_df['Abandoned'].sum()\n",
    "north_abandonment_rate = round(north_abandoned_calls / north_total_calls, 4) *100\n",
    "print('North Branch Average Abandonment Rate:', north_abandonment_rate,'%')\n",
    "\n",
    "south_total_calls = south_df['Calls'].sum()\n",
    "south_abandoned_calls = south_df['Abandoned'].sum()\n",
    "south_abandonment_rate = round(south_abandoned_calls / south_total_calls, 4) *100\n",
    "print('South Branch Average Abandonment Rate:', south_abandonment_rate,'%')\n",
    "\n",
    "total_calls = combined_df['Calls'].sum()\n",
    "total_abandoned_calls = combined_df['Abandoned'].sum()\n",
    "total_abandonment_rate = round(total_abandoned_calls / total_calls, 4) *100\n",
    "print('Total Company Average Abandonment Rate:', total_abandonment_rate,'%')\n"
   ]
  },
  {
   "cell_type": "markdown",
   "id": "c284596f-218f-4291-81b6-718ea5671feb",
   "metadata": {},
   "source": [
    "##### Record your answer below:\n",
    "Average Call Abandonment Rates (round to the nearest hundredth):\n",
    "- North Branch = 2.86%\n",
    "- South Branch = 1.27%\n",
    "- Company Wide = 1.97%\n",
    "- Do any of these fall out of the optimal range of 2-5%?\n",
    "  * The south branch falls outside of the optimal range as does the total company wide if you do not round to the nearest whole percentage.  "
   ]
  },
  {
   "cell_type": "markdown",
   "id": "598bb1bf",
   "metadata": {},
   "source": [
    "#### Manipulation Question 3:  Service level is another KPI when it comes to measuring call center efficiency. Service level is the percentage of calls answered within a specific number of seconds. In the case of your employer, their ideal time frame is 2 seconds. What is the percentage of calls answered within 2 seconds for each branch and the entire company?"
   ]
  },
  {
   "cell_type": "code",
   "execution_count": 40,
   "id": "2fc8f669",
   "metadata": {},
   "outputs": [
    {
     "name": "stdout",
     "output_type": "stream",
     "text": [
      "North 2 seconds or less Count: 33.0\n",
      "North Branch Service Level: 40.24 %\n",
      "South 2 seconds or less Count: 48\n",
      "South Branch Service Level: 38.1 %\n",
      "Total 2 seconds or less Count: 81\n",
      "Total Branch Service Level: 38.94 %\n"
     ]
    }
   ],
   "source": [
    "# Manipulation Question 3 solution below:\n",
    "# combined_df.info()\n",
    "\n",
    "north_counts = north_df['Incoming or Outgoing'].value_counts()\n",
    "north_incoming_count = north_counts['Incoming']\n",
    "north_wait_time_calls = north_df['Incoming Wait Time']\n",
    "north_filtered_wait_times = north_df[north_df['Incoming Wait Time'] <=2]['Incoming Wait Time']\n",
    "north_2sec_count = north_incoming_count - sum(north_filtered_wait_times)\n",
    "print('North 2 seconds or less Count:', north_2sec_count)\n",
    "# print('North Incoming Count:', north_incoming_count)\n",
    "north_service_level = north_2sec_count / north_incoming_count *100\n",
    "print('North Branch Service Level:', round(north_service_level, 2), '%')\n",
    "\n",
    "\n",
    "south_counts = south_df['Incoming or Outgoing'].value_counts()\n",
    "south_incoming_count = south_counts['Incoming']\n",
    "south_wait_time_calls = south_df['Incoming Wait Time']\n",
    "south_filtered_wait_times = south_df[south_df['Incoming Wait Time'] <= 2]['Incoming Wait Time'].count()\n",
    "print('South 2 seconds or less Count:', south_filtered_wait_times)\n",
    "south_service_level = south_filtered_wait_times / south_incoming_count *100\n",
    "print('South Branch Service Level:', round(south_service_level, 2), '%')\n",
    "\n",
    "total_counts = combined_df['Incoming or Outgoing'].value_counts()\n",
    "total_incoming_count = total_counts['Incoming']\n",
    "total_wait_time_calls = combined_df['Incoming Wait Time']\n",
    "total_filtered_wait_times = combined_df[combined_df['Incoming Wait Time'] <= 2]['Incoming Wait Time'].count()\n",
    "print('Total 2 seconds or less Count:', total_filtered_wait_times)\n",
    "# print('Total Incoming Count:', total_incoming_count)\n",
    "total_service_level = total_filtered_wait_times / total_incoming_count *100\n",
    "print('Total Branch Service Level:', round(total_service_level, 2), '%')\n"
   ]
  },
  {
   "cell_type": "markdown",
   "id": "ed3487ac",
   "metadata": {},
   "source": [
    "North 2 seconds or less Count: 33.0\n",
    "North Branch Service Level: 40.24 %\n",
    "South 2 seconds or less Count: 50.0\n",
    "South Branch Service Level: 39.68 %\n",
    "Total 2 seconds or less Count: 83.0\n",
    "Total Branch Service Level: 39.9 %"
   ]
  },
  {
   "cell_type": "markdown",
   "id": "e3a4c9d9-4e11-4e1f-859a-d2c919f7d9ce",
   "metadata": {},
   "source": [
    "##### Record your answer below:\n",
    "Percentage of calls answered within 2 seconds, include # of calls:\n",
    "- North Branch = 40.24% and 33 calls\n",
    "- South Branch = 39.68% and 50 calls\n",
    "- Company Wide = 39.90% and 83 calls "
   ]
  },
  {
   "cell_type": "markdown",
   "id": "7e19e705",
   "metadata": {},
   "source": [
    "#### Manipulation Question 4: For each branch and the entire company, what is the average speed of answer?"
   ]
  },
  {
   "cell_type": "code",
   "execution_count": null,
   "id": "72a653ed",
   "metadata": {},
   "outputs": [],
   "source": [
    "# Manipulation Question 4 solution below:\n",
    "\n",
    "north_wait_time_calls = round(north_df['Incoming Wait Time'].mean(), 2)  \n",
    "print('Average North Branch Wait Time:', north_wait_time_calls,'seconds')\n",
    "\n",
    "south_wait_time_calls = round(south_df['Incoming Wait Time'].mean(), 2)  \n",
    "print('Average South Branch Wait Time:', south_wait_time_calls,'seconds')\n",
    "\n",
    "total_wait_time_calls = round(combined_df['Incoming Wait Time'].mean(), 2)  \n",
    "print('Averace Total Company Wait Time:', total_wait_time_calls,'seconds')"
   ]
  },
  {
   "cell_type": "markdown",
   "id": "c0514c1d",
   "metadata": {},
   "source": [
    "Average North Branch Wait Time: 3.05 seconds\n",
    "Average South Branch Wait Time: 3.0 seconds\n",
    "Averace Total Company Wait Time: 3.02 seconds"
   ]
  },
  {
   "cell_type": "markdown",
   "id": "fb04c65b-442b-48e1-b22c-b2af8b835ffd",
   "metadata": {},
   "source": [
    "##### Record your answer by below:\n",
    "Average speed of answer (rounded to nearest hundredth):\n",
    "- North Branch in seconds = 3.05\n",
    "- South Branch in seconds = 3.00\n",
    "- Company Wide in seconds = 3.02"
   ]
  },
  {
   "cell_type": "markdown",
   "id": "d5f50a40",
   "metadata": {},
   "source": [
    "## Task 4: Visualization\n",
    "\n",
    "Create a visualization for each of the following questions. Some of the code to handle aggregating and storing data may be written for you. For each visualization, you choose the chart style that you feel suits the situation best. Make note of the chart style you chose and why. \n",
    "\n",
    "*NOTE Some questions you may decide to use more than one chart and or chart style."
   ]
  },
  {
   "cell_type": "markdown",
   "id": "66ccf83c",
   "metadata": {},
   "source": [
    "#### Visualization 1:  What is the average abandonment rate per queue?"
   ]
  },
  {
   "cell_type": "code",
   "execution_count": 168,
   "id": "c971d779",
   "metadata": {},
   "outputs": [
    {
     "name": "stderr",
     "output_type": "stream",
     "text": [
      "C:\\Users\\sqroo\\AppData\\Local\\Temp\\ipykernel_19772\\665578884.py:9: FutureWarning: Series.__getitem__ treating keys as positions is deprecated. In a future version, integer keys will always be treated as labels (consistent with DataFrame behavior). To access a value by position, use `ser.iloc[pos]`\n",
      "  abandonment_rates[queues[i]] = queue_dict[\"Abandoned\"][i] / queue_dict[\"Calls\"][i]\n"
     ]
    },
    {
     "data": {
      "image/png": "[encoded data removed]",
      "text/plain": [
       "<Figure size 640x480 with 1 Axes>"
      ]
     },
     "metadata": {},
     "output_type": "display_data"
    }
   ],
   "source": [
    "# Create visualization 1 here\n",
    "# Import any additional libraries needed with alias\n",
    "\n",
    "# The dictionary abandonment_rates has the data you need.\n",
    "abandonment_rates = {}\n",
    "queues = [\"A\", \"B\", \"C\", \"D\"]\n",
    "queue_dict = combined_df.groupby(\"Queue\").agg(\"sum\")\n",
    "for i in range(4):\n",
    "    abandonment_rates[queues[i]] = queue_dict[\"Abandoned\"][i] / queue_dict[\"Calls\"][i] \n",
    "\n",
    "#Your code below:\n",
    "labels = list(abandonment_rates.keys())\n",
    "values = list(abandonment_rates.values())\n",
    "\n",
    "plt.barh(labels, values, color='purple')\n",
    "plt.title('Average Abandonment Rates by Queue')\n",
    "plt.xlabel('Average Abandonment Rate')\n",
    "plt.ylabel('Queue')\n",
    "plt.grid(axis='x', linestyle='--', alpha=0.7)\n",
    "\n",
    "plt.show()"
   ]
  },
  {
   "cell_type": "markdown",
   "id": "00a821e7-b296-4950-8889-dacf36ef37fb",
   "metadata": {},
   "source": [
    "##### Record your answer below:\n",
    "\n",
    "> Chart style you chose and why: A horizontal bar chart shows the distinction in the rate differences well."
   ]
  },
  {
   "cell_type": "markdown",
   "id": "4a9fc77f",
   "metadata": {},
   "source": [
    "#### Visualization 2: What is the service level percentage and average speed of answer for each rep in the North Branch?"
   ]
  },
  {
   "cell_type": "code",
   "execution_count": 181,
   "id": "61f65a7f",
   "metadata": {},
   "outputs": [
    {
     "data": {
      "image/png": "[encoded data removed]",
      "text/plain": [
       "<Figure size 640x480 with 1 Axes>"
      ]
     },
     "metadata": {},
     "output_type": "display_data"
    }
   ],
   "source": [
    "# Create visualization 2 here\n",
    "# north_plt contains the data you need for the average speed of answer of each rep\n",
    "\n",
    "north_plt = north_df.groupby(\"Rep ID\")[\"Incoming Wait Time\"].mean().to_frame().reset_index()\n",
    "\n",
    "# Finding each Rep's Personal Service Level Percentage. Basically, Calls within 2 secs / total calls\n",
    "\n",
    "# Table 1: Total Incoming calls less than 2 seconds grouped by Rep\n",
    "quick_calls = north_df[north_df[\"Incoming Wait Time\"] <= 2.0]\n",
    "quick_reps = quick_calls[[\"Rep ID\", \"Calls\"]]\n",
    "quick_stats = quick_reps.groupby([\"Rep ID\"]).sum()  # Final Table\n",
    "\n",
    "\n",
    "# Table 2: Total Incoming Calls Only grouped by Rep\n",
    "total_calls_in = north_df[north_df[\"Incoming or Outgoing\"] == \"Incoming\"]\n",
    "rep_calls = total_calls_in[[\"Rep ID\", \"Calls\"]]     \n",
    "total_stats = rep_calls.groupby([\"Rep ID\"]).sum() # Final Table  \n",
    "\n",
    "#  Table 3: Service Level Percentage created via merge\n",
    "service_level = pd.merge(quick_stats, total_stats, on=\"Rep ID\")\n",
    "\n",
    "# Create Percentage Column in Table 3\n",
    "service_level[\"Service Level %\"] = service_level[\"Calls_x\"]/service_level[\"Calls_y\"] * 100\n",
    "service_level_percents = service_level[\"Service Level %\"]\n",
    "\n",
    "#Your Code Here:\n",
    "labels = service_level_percents\n",
    "incoming_wait_times = north_plt[\"Incoming Wait Time\"]\n",
    "service_levels = service_level[\"Service Level %\"]\n",
    "bar_width = 0.35\n",
    "x = np.arange(len(labels)) \n",
    "\n",
    "bars1 = plt.bar(x - bar_width / 2, incoming_wait_times, bar_width, label='Average Incoming Wait Time', color='skyblue')\n",
    "bars2 = plt.bar(x + bar_width / 2, service_levels, bar_width, label='Service Level %', color='orange')\n",
    "\n",
    "plt.xlabel('Representative')\n",
    "plt.title('Average Incoming Wait Time and Service Level Percentage by Representative')\n",
    "plt.ylabel('Value')\n",
    "plt.legend()\n",
    "plt.grid(axis='y', linestyle='--', alpha=0.7)\n",
    "\n",
    "plt.show()\n",
    "\n"
   ]
  },
  {
   "cell_type": "markdown",
   "id": "4d4cad4d-f9fb-4927-8a45-4b5cd17edd3a",
   "metadata": {},
   "source": [
    "##### Record your answer below:\n",
    "\n",
    "> Chart style you chose and why: A vertical bar chart is pleasing to the eye and easily shows and side by side for easy comparison. "
   ]
  },
  {
   "cell_type": "markdown",
   "id": "f965e41a",
   "metadata": {},
   "source": [
    "#### Visualization 3: For each type of call purpose, how many calls are outgoing vs. incoming?"
   ]
  },
  {
   "cell_type": "code",
   "execution_count": 201,
   "id": "44096730",
   "metadata": {},
   "outputs": [
    {
     "data": {
      "image/png": "[encoded data removed]",
      "text/plain": [
       "<Figure size 1500x500 with 3 Axes>"
      ]
     },
     "metadata": {},
     "output_type": "display_data"
    }
   ],
   "source": [
    "# # Create visualization 3 here:\n",
    "# # The three dictionaries, complaints, sales_support, and product_support, have the information you need\n",
    "\n",
    "purpose_group =combined_df.groupby(\"Call Purpose\")\n",
    "call_purpose = [\"Complaint\", \"Product Support\", \"Sales Support\"]\n",
    "purpose_counts = purpose_group[\"Incoming or Outgoing\"].value_counts()\n",
    "# print(purpose_counts)\n",
    "\n",
    "complaints = purpose_counts[\"Complaint\"].to_dict()\n",
    "sales_support = purpose_counts[\"Sales Support\"].to_dict()\n",
    "product_support = purpose_counts[\"Product Support\"].to_dict()\n",
    "\n",
    "# #Your Code Here:\n",
    "complaints = purpose_counts[\"Complaint\"]\n",
    "sales_support = purpose_counts[\"Sales Support\"]\n",
    "product_support = purpose_counts[\"Product Support\"]\n",
    "\n",
    "fig, axs = plt.subplots(1, 3, figsize=(15, 5))\n",
    "\n",
    "axs[0].bar(complaints.index, complaints.values, color='blue')\n",
    "axs[0].set_title('Complaints Counts: Incoming vs Outgoing')\n",
    "axs[0].set_ylabel('Count')\n",
    "axs[0].set_xlabel('Incoming vs Outgoing')\n",
    "axs[0].grid(axis='y', linestyle='--', alpha=0.7)\n",
    "\n",
    "axs[1].bar(sales_support.index, sales_support.values, color='orange')\n",
    "axs[1].set_title('Sales Support Counts: Incoming vs Outgoing')\n",
    "axs[1].set_ylabel('Count')\n",
    "axs[1].set_xlabel('Incoming vs Outgoing')\n",
    "axs[1].grid(axis='y', linestyle='--', alpha=0.7)\n",
    "\n",
    "axs[2].bar(product_support.index, product_support.values, color='green')\n",
    "axs[2].set_title('Product Support Counts: Incoming vs Outgoing')\n",
    "axs[2].set_ylabel('Count')\n",
    "axs[2].set_xlabel('Incoming vs Outgoing')\n",
    "axs[2].grid(axis='y', linestyle='--', alpha=0.7)\n",
    "\n",
    "plt.show()\n"
   ]
  },
  {
   "cell_type": "markdown",
   "id": "9198bbe4-44ef-4e21-bd40-6ace8e9f7694",
   "metadata": {},
   "source": [
    "##### Record your answer below:\n",
    "\n",
    "> Chart style you chose and why: Visualizing the three vertical bar charts side by side is the easiest way to get a quick glimpse between the three categories. HHowever each chart is marked using a different scale so the view will need to make note of that."
   ]
  },
  {
   "cell_type": "markdown",
   "id": "ea7ed568",
   "metadata": {},
   "source": [
    "## Task 5: Summarize Your Work\n",
    "\n",
    "With what you know now about the two call centers and the entire company, answer the following questions. Note that while this is subjective, you should include relevant data to back up your opinion.\n"
   ]
  },
  {
   "cell_type": "markdown",
   "id": "d2fc3d13",
   "metadata": {},
   "source": [
    "#### Summary Question 1:  Using KPIs such as average abandonment rate, service level and average speed of answer, in your opinion, which one of the two branches is operating more efficiently? Why?\n",
    "\n",
    "##### Record your answer below:\n",
    "> Your Answer: The south branch is operating more effeciantly than the north branch based off the average abandonment rate, service level, and averge speed of answer. The south branch has a lower abdonded call rate, lower incoming wait time and answer more calls withing 2 seconds.\n",
    "\n"
   ]
  },
  {
   "cell_type": "markdown",
   "id": "489f28d6",
   "metadata": {},
   "source": [
    "#### Summary Question 2: Based on the number of reps in each branch and how quickly the reps are working, in your opinion, which branch would benefit from the extra help?\n",
    "\n",
    "##### Record your answer below:\n",
    "> Your Answer: I believe the north branch would benefit from having the extra help as they currently have fewer works and are able to answer fewer calls. \n"
   ]
  },
  {
   "cell_type": "markdown",
   "id": "0b10a8c3",
   "metadata": {},
   "source": [
    "#### Summary Question 3: Now that you have explored the datasets, is there any data or information that you wish you had in this analysis?\n",
    "\n",
    "##### Record your answer below:\n",
    "> Your Answer: I think the data provided was useful and gave adequate amount of information to determine which location could benefit from gaining extra help. \n"
   ]
  },
  {
   "cell_type": "markdown",
   "id": "ce16f43d",
   "metadata": {},
   "source": [
    "## Bonus Mission\n",
    "Create a visualization that answers this question: For each call purpose, how many calls (incoming and outgoing) take place in each time block?\n",
    "##### Record your answer below:\n",
    "\n",
    "> Chart style you chose and why: "
   ]
  },
  {
   "cell_type": "code",
   "execution_count": null,
   "id": "71b04f32",
   "metadata": {},
   "outputs": [],
   "source": [
    "# Create your Bonus Mission visualization here!\n",
    "call_times = df[[\"Time Block\", \"Call Purpose\", \"Incoming or Outgoing\", \"Calls\"]]\n",
    "\n",
    "# Use groupby to plot based on time blocks:\n",
    "\n",
    "# Use groupby and get_group to select which call purpose to plot:"
   ]
  }
 ],
 "metadata": {
  "kernelspec": {
   "display_name": "Python 3",
   "language": "python",
   "name": "python3"
  },
  "language_info": {
   "codemirror_mode": {
    "name": "ipython",
    "version": 3
   },
   "file_extension": ".py",
   "mimetype": "text/x-python",
   "name": "python",
   "nbconvert_exporter": "python",
   "pygments_lexer": "ipython3",
   "version": "3.12.3"
  }
 },
 "nbformat": 4,
 "nbformat_minor": 5
}
